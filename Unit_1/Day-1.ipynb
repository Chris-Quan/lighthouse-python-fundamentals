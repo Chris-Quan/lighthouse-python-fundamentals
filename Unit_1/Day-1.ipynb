{
 "cells": [
  {
   "cell_type": "code",
   "execution_count": null,
   "id": "4d6886d9",
   "metadata": {},
   "outputs": [],
   "source": [
    "print(\"Hello World!\")"
   ]
  },
  {
   "cell_type": "code",
   "execution_count": 1,
   "id": "777824d4",
   "metadata": {},
   "outputs": [],
   "source": [
    "pizza = {\n",
    "    'size': 'large',\n",
    "    'toppings': [\n",
    "        'feta',\n",
    "        'prosciutto',\n",
    "        'olives',\n",
    "        'arugula'\n",
    "    ],\n",
    "    'crust': 'gluten free',\n",
    "    'address': '401 Somewhere St.',\n",
    "    'note': 'Deliver to treehouse in back yard.'\n",
    "}"
   ]
  },
  {
   "cell_type": "code",
   "execution_count": 2,
   "id": "000b4df5",
   "metadata": {},
   "outputs": [
    {
     "name": "stdout",
     "output_type": "stream",
     "text": [
      "Hello Thomas, it's very nice to meet you!\n",
      "Your total bill is: \n",
      "22.8\n",
      "Vancouver looks like a cool place to go!!\n",
      "Montreal looks like a cool place to go!!\n",
      "Calgary looks like a cool place to go!!\n",
      "Toronto looks like a cool place to go!!\n"
     ]
    }
   ],
   "source": [
    "# name is a variable. It contains a string\n",
    "name = \"Thomas\"\n",
    "print(\"Hello \" + name + \", it's very nice to meet you!\")\n",
    "\n",
    "# taxRate, subtotal, tax and total are all variables that contain numbers\n",
    "taxRate = 0.14\n",
    "subtotal = 20\n",
    "tax = subtotal * taxRate\n",
    "total = subtotal + tax\n",
    "print(\"Your total bill is: \")\n",
    "print(total)\n",
    "\n",
    "# travel_destinations is a variable containing a list\n",
    "# city is a variable - its value is changing a few times\n",
    "travel_destinations = [\"Vancouver\",\"Montreal\",\"Calgary\",\"Toronto\"]\n",
    "for city in travel_destinations:\n",
    "    print(city + \" looks like a cool place to go!!\")"
   ]
  }
 ],
 "metadata": {
  "kernelspec": {
   "display_name": "Python 3 (ipykernel)",
   "language": "python",
   "name": "python3"
  },
  "language_info": {
   "codemirror_mode": {
    "name": "ipython",
    "version": 3
   },
   "file_extension": ".py",
   "mimetype": "text/x-python",
   "name": "python",
   "nbconvert_exporter": "python",
   "pygments_lexer": "ipython3",
   "version": "3.9.12"
  }
 },
 "nbformat": 4,
 "nbformat_minor": 5
}
